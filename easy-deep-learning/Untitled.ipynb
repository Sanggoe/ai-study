{
 "cells": [
  {
   "cell_type": "code",
   "execution_count": 5,
   "id": "0edc74ae",
   "metadata": {},
   "outputs": [
    {
     "name": "stdout",
     "output_type": "stream",
     "text": [
      "tf.Tensor([3 4 5], shape=(3,), dtype=int32)\n"
     ]
    }
   ],
   "source": [
    "import tensorflow as tf\n",
    "텐서 = tf.constant([3,4,5])\n",
    "print(텐서)"
   ]
  },
  {
   "cell_type": "markdown",
   "id": "850ae68e",
   "metadata": {},
   "source": [
    "### Tensor\n",
    "\n",
    "텐서는 기본적인 하나의 자료형.\n",
    "\n",
    "\n",
    "### Tensor가 왜 필요한가?\n",
    "\n",
    "input이 x1, x2, x3 이랑 w1, w2, w3 라고 가정했을 때. 각각을 곱해서 더한 것을 하나의 노드로 만들고 싶다.\n",
    "\n",
    "이걸 파이썬 코드로 만들라면 곱하고 더하고 곱하고 더하고...\n",
    "\n",
    "행렬을 이용하면 더하고 곱하고 쉽게 할 수 있다! node 값의 계산식이 쉬워진다.\n",
    "\n",
    "\n",
    "텐서는 아래와 같이 쉬운 연산을 위해서 사용할 수 있다~\n",
    "\n",
    "#### 사칙연산\n",
    "* tf.add()\n",
    "* tf.subtract()\n",
    "* tf.divide()\n",
    "* tf.multiply() - 각 요소끼리 곱 연산 (x1*y1, x2*y2 ... )\n",
    "* tf.matmul() - 행렬의 곱 연산 ((x1,y1)*(x1,y1)\n",
    "\n",
    "#### 0으로 가득찬 텐서\n",
    "* tf.zeros()"
   ]
  },
  {
   "cell_type": "code",
   "execution_count": 8,
   "id": "8689d971",
   "metadata": {},
   "outputs": [
    {
     "name": "stdout",
     "output_type": "stream",
     "text": [
      "tf.Tensor([ 9 11 13], shape=(3,), dtype=int32)\n",
      "tf.Tensor([ 9 11 13], shape=(3,), dtype=int32)\n",
      "tf.Tensor([0. 0. 0. 0. 0. 0. 0. 0. 0. 0.], shape=(10,), dtype=float32)\n"
     ]
    }
   ],
   "source": [
    "import tensorflow as tf\n",
    "\n",
    "텐서 = tf.constant([3,4,5])\n",
    "텐서2 = tf.constant([6,7,8])\n",
    "텐서3 = tf.constant([[1,2],\n",
    "                     [3,4]])\n",
    "텐서4 = tf.zeros(10)\n",
    "\n",
    "print(텐서 + 텐서2)\n",
    "print(tf.add(텐서, 텐서2))\n",
    "print(텐서4)"
   ]
  },
  {
   "cell_type": "markdown",
   "id": "0f116220",
   "metadata": {},
   "source": []
  },
  {
   "cell_type": "code",
   "execution_count": null,
   "id": "9ae320ad",
   "metadata": {},
   "outputs": [],
   "source": []
  }
 ],
 "metadata": {
  "kernelspec": {
   "display_name": "Python 3 (ipykernel)",
   "language": "python",
   "name": "python3"
  },
  "language_info": {
   "codemirror_mode": {
    "name": "ipython",
    "version": 3
   },
   "file_extension": ".py",
   "mimetype": "text/x-python",
   "name": "python",
   "nbconvert_exporter": "python",
   "pygments_lexer": "ipython3",
   "version": "3.8.12"
  }
 },
 "nbformat": 4,
 "nbformat_minor": 5
}
